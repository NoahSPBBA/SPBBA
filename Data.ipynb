{
 "cells": [
  {
   "cell_type": "code",
   "execution_count": null,
   "id": "2a8f4b88",
   "metadata": {},
   "outputs": [],
   "source": [
    "# Packages\n",
    "import pandas as pd"
   ]
  },
  {
   "cell_type": "code",
   "execution_count": null,
   "id": "17173320",
   "metadata": {},
   "outputs": [
    {
     "name": "stdout",
     "output_type": "stream",
     "text": [
      "                               Kategorie: Alle Kategorien\n",
      "Woche      Bitcoin: (Weltweit)       Ethereum: (Weltweit)\n",
      "2024-05-12 33                                           8\n",
      "2024-05-19 36                                          22\n",
      "2024-05-26 30                                          13\n",
      "2024-06-02 32                                          11\n"
     ]
    }
   ],
   "source": [
    "# Einlesen\n",
    "import pandas as pd\n",
    "\n",
    "df = pd.read_csv(r\"C:\\Users\\noahw\\Documents\\FH Business Analytics\\6. Semester\\Vertiefung BBA\\Menden\\google_btc_eth.csv\") # als var machen damit jeder zugreifen könnte\n",
    "\n",
    "print(df.head())\n"
   ]
  },
  {
   "cell_type": "code",
   "execution_count": 10,
   "id": "f40a8579",
   "metadata": {},
   "outputs": [],
   "source": [
    "# Datumsformat \n",
    "df = pd.read_csv(r\"C:\\Users\\noahw\\Documents\\FH Business Analytics\\6. Semester\\Vertiefung BBA\\Menden\\google_btc_eth.csv\", skiprows=1)\n",
    "#print(df.columns)\n",
    "\n",
    "# Spalten umbenennen\n",
    "df.rename(columns={\n",
    "    'Woche': 'date',\n",
    "    'Bitcoin: (Weltweit)': 'btc',\n",
    "    'Ethereum: (Weltweit)': 'eth'\n",
    "}, inplace=True)\n",
    "\n",
    "# Datum konvertieren und als Index setzen\n",
    "df['date'] = pd.to_datetime(df['date'])\n",
    "df.set_index('date', inplace=True)\n",
    "\n"
   ]
  },
  {
   "cell_type": "code",
   "execution_count": 11,
   "id": "8634c876",
   "metadata": {},
   "outputs": [
    {
     "name": "stdout",
     "output_type": "stream",
     "text": [
      "            btc  eth\n",
      "date                \n",
      "2024-05-12   33    8\n",
      "2024-05-19   36   22\n",
      "2024-05-26   30   13\n",
      "2024-06-02   32   11\n",
      "2024-06-09   32    9\n"
     ]
    }
   ],
   "source": [
    "# Datentypen prüfen und ggf. in numerisch umwandeln\n",
    "df['btc'] = pd.to_numeric(df['btc'], errors='coerce')\n",
    "df['eth'] = pd.to_numeric(df['eth'], errors='coerce')\n",
    "\n",
    "# Fehlende Werte behandeln\n",
    "df = df.dropna()\n",
    "\n",
    "# Vorschau\n",
    "print(df.head())"
   ]
  }
 ],
 "metadata": {
  "kernelspec": {
   "display_name": "base",
   "language": "python",
   "name": "python3"
  },
  "language_info": {
   "codemirror_mode": {
    "name": "ipython",
    "version": 3
   },
   "file_extension": ".py",
   "mimetype": "text/x-python",
   "name": "python",
   "nbconvert_exporter": "python",
   "pygments_lexer": "ipython3",
   "version": "3.9.13"
  }
 },
 "nbformat": 4,
 "nbformat_minor": 5
}
